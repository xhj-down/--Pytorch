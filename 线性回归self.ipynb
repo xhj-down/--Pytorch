{
 "cells": [
  {
   "cell_type": "markdown",
   "metadata": {},
   "source": [
    "两种实现方法：\n",
    "    1、从零开始实现\n",
    "    2、使用pytorch简洁实现\n",
    "\n"
   ]
  },
  {
   "cell_type": "code",
   "execution_count": 2,
   "metadata": {},
   "outputs": [],
   "source": [
    "#线性回归模型从零开始实现\n",
    "import torch\n",
    "import numpy as np\n",
    "from matplotlib import pyplot as plt"
   ]
  },
  {
   "cell_type": "code",
   "execution_count": 3,
   "metadata": {},
   "outputs": [
    {
     "data": {
      "image/png": "[encoded data removed]",
      "text/plain": [
       "<Figure size 432x288 with 1 Axes>"
      ]
     },
     "metadata": {
      "needs_background": "light"
     },
     "output_type": "display_data"
    }
   ],
   "source": [
    "#使用线性模型来生成数据集\n",
    "num_inputs = 2#features number\n",
    "num_examples = 1000\n",
    "w_true = [2,-3]\n",
    "b_true = 4\n",
    "\n",
    "features = torch.randn(num_examples,num_inputs,dtype=torch.float32)\n",
    "labels = w_true[0]*features[:,0]+w_true[1]*features[:,1]+b_true\n",
    "labels =labels+torch.tensor(np.random.normal(0,0.01,size=labels.size()),dtype=torch.float32)\n",
    "\n",
    "plt.scatter(features[:,1].numpy(),labels.numpy());"
   ]
  },
  {
   "cell_type": "code",
   "execution_count": 4,
   "metadata": {},
   "outputs": [
    {
     "name": "stdout",
     "output_type": "stream",
     "text": [
      "tensor([[-1.0885, -0.3192],\n",
      "        [ 1.6246, -0.5499],\n",
      "        [ 0.5785, -0.6107],\n",
      "        [-0.1618, -2.2074],\n",
      "        [-0.1784,  0.1130],\n",
      "        [-0.8291, -0.4109],\n",
      "        [ 0.0366,  0.5840],\n",
      "        [-0.2352, -0.0817],\n",
      "        [-0.8002,  0.4082],\n",
      "        [ 0.7293, -0.9986]]) \n",
      " tensor([ 2.7797,  8.9019,  7.0044, 10.3036,  3.2998,  3.6007,  2.3211,  3.7599,\n",
      "         1.1733,  8.4775])\n",
      "tensor([[-0.8454,  0.0910],\n",
      "        [-0.6916, -1.6284],\n",
      "        [ 0.3923,  0.5202],\n",
      "        [-0.3942, -1.0497],\n",
      "        [-0.5952,  0.3450],\n",
      "        [-1.1656, -0.3322],\n",
      "        [ 0.7279, -0.0150],\n",
      "        [ 1.3871,  0.4192],\n",
      "        [ 0.3237, -0.8523],\n",
      "        [-0.3855,  1.1122]]) \n",
      " tensor([ 2.0362,  7.5053,  3.2431,  6.3554,  1.7904,  2.6781,  5.4998,  5.5315,\n",
      "         7.2083, -0.1101])\n"
     ]
    }
   ],
   "source": [
    "#读取数据集\n",
    "import random\n",
    "def data_iter(batch_size,features,labels):\n",
    "    num_examples = len(features)\n",
    "    indices = list(range(num_examples))\n",
    "    random.shuffle(indices)#将列表的元素顺序随机打乱\n",
    "    for i in range(0,num_examples,batch_size):\n",
    "        #range(s,e,step)返回的是range型可迭代对象，不可变列表  np.arange()返回的是ndarray\n",
    "        j = torch.LongTensor(indices[i:min(i+batch_size,num_examples)])#min是防止最后凑不齐一个batch\n",
    "        #j是一个tensor\n",
    "        yield features.index_select(0,j),labels.index_select(0,j)\n",
    "        #index_select是pytorch中的方法，第一个参数为0表示按行索引，第二个参数是一个tensor表示筛选的序号\n",
    "        \n",
    "batch_size = 10\n",
    "for x,y in data_iter(batch_size,features,labels):\n",
    "    print (x,'\\n',y)\n",
    "    break\n",
    "    \n",
    "#pytorch版\n",
    "import torch.utils.data as Data\n",
    "dataset = Data.TensorDataset(features,labels)#拼接\n",
    "data_iter2 = Data.DataLoader(dataset=dataset,\n",
    "                            batch_size=10,\n",
    "                            shuffle=True,\n",
    "                            num_workers=2,\n",
    "                           )\n",
    "for x,y in data_iter2:\n",
    "    print (x,'\\n',y)\n",
    "    break"
   ]
  },
  {
   "cell_type": "code",
   "execution_count": 5,
   "metadata": {},
   "outputs": [
    {
     "data": {
      "text/plain": [
       "tensor([0.], requires_grad=True)"
      ]
     },
     "execution_count": 5,
     "metadata": {},
     "output_type": "execute_result"
    }
   ],
   "source": [
    "#初始化模型参数\n",
    "w = torch.tensor(np.random.normal(0,0.01,(num_inputs,1)),dtype=torch.float32)\n",
    "b = torch.zeros(1,dtype=torch.float32,requires_grad=True)\n",
    "#所有的tensor都有requires_grad属性，等于True可自动求导\n",
    "#所有的tensor都有requires_grad_方法可以改变requires_grad属性\n",
    "w.requires_grad_(requires_grad=True)\n",
    "#b.requires_grad_(requires_grad=True)\n",
    "b\n"
   ]
  },
  {
   "cell_type": "code",
   "execution_count": 6,
   "metadata": {},
   "outputs": [
    {
     "name": "stdout",
     "output_type": "stream",
     "text": [
      "LinearNet(\n",
      "  (linear): Linear(in_features=2, out_features=1, bias=True)\n",
      ")\n",
      "Parameter containing:\n",
      "tensor([[-0.0044, -0.0082]], requires_grad=True)\n",
      "Parameter containing:\n",
      "tensor([0.], requires_grad=True)\n"
     ]
    }
   ],
   "source": [
    "#定义模型\n",
    "def linreg(x,w,b):\n",
    "    return torch.mm(x,w)+b\n",
    "\n",
    "#pytorch版 定义模型\n",
    "from torch import nn\n",
    "class LinearNet(nn.Module):\n",
    "    def __init__(self,n_feature):\n",
    "        super(LinearNet,self).__init__()#继承父类的初始化\n",
    "        self.linear = nn.Linear(n_feature,1)#输入\n",
    "    def forward(self,x):\n",
    "        y = self.linear(x)\n",
    "        return y\n",
    "print (LinearNet(num_inputs))\n",
    "net = nn.Sequential(nn.Linear(num_inputs,1))#初始化多层网络\n",
    "#初始化模型参数\n",
    "from torch.nn import init\n",
    "\n",
    "init.normal_(net[0].weight, mean=0.0, std=0.01)\n",
    "init.constant_(net[0].bias, val=0.0)\n",
    "\n",
    "for param in net.parameters():\n",
    "    print (param)"
   ]
  },
  {
   "cell_type": "code",
   "execution_count": 10,
   "metadata": {},
   "outputs": [],
   "source": [
    "#定义损失函数\n",
    "def squared_loss(y_hat,y):\n",
    "    return (y_hat-y.view(y_hat.size()))**2/2\n",
    "\n",
    "#\n",
    "loss2 = nn.MSELoss()"
   ]
  },
  {
   "cell_type": "code",
   "execution_count": 12,
   "metadata": {},
   "outputs": [
    {
     "name": "stdout",
     "output_type": "stream",
     "text": [
      "SGD (\n",
      "Parameter Group 0\n",
      "    dampening: 0\n",
      "    lr: 0.03\n",
      "    momentum: 0\n",
      "    nesterov: False\n",
      "    weight_decay: 0\n",
      ")\n"
     ]
    }
   ],
   "source": [
    "#定义优化函数\n",
    "def sgd(params,lr,batch_size):\n",
    "    #y.backward()\n",
    "    for param in params:\n",
    "        param.data -= lr/batch_size*param.grad#梯度下降更新param\n",
    "        #param.grad 对param求导。求y关于param的导数\n",
    "        \n",
    "#\n",
    "import torch.optim as optim\n",
    "optimizer = optim.SGD(net.parameters(),lr=0.03)\n",
    "print(optimizer)"
   ]
  },
  {
   "cell_type": "code",
   "execution_count": 14,
   "metadata": {},
   "outputs": [
    {
     "name": "stdout",
     "output_type": "stream",
     "text": [
      "epoch 1,loss 0.000048\n",
      "epoch 2,loss 0.000048\n",
      "epoch 3,loss 0.000049\n",
      "epoch 4,loss 0.000048\n",
      "epoch 5,loss 0.000049\n",
      "使用pytorch框架简洁实现\n",
      "epoch 1, loss: 0.000144\n",
      "epoch 2, loss: 0.000062\n",
      "epoch 3, loss: 0.000061\n"
     ]
    }
   ],
   "source": [
    "#训练\n",
    "lr = 0.03\n",
    "num_epochs = 5\n",
    "batch_size = 10\n",
    "for epoch in range(num_epochs):\n",
    "    for x,y in data_iter(batch_size,features,labels):\n",
    "        y_hat = linreg(x,w,b)#调用模型\n",
    "        loss = squared_loss(y_hat,y).sum()\n",
    "        loss.backward()\n",
    "        sgd([w,b],lr,batch_size)\n",
    "        w.grad.data.zero_()#清零\n",
    "        b.grad.data.zero_()\n",
    "    train_loss = squared_loss(linreg(features,w,b),labels).mean()\n",
    "    print('epoch %d,loss %f'%(epoch+1,train_loss.item()))\n",
    "    \n",
    "    \n",
    "#\n",
    "print (\"\\n使用pytorch框架简洁实现\")\n",
    "num_epochs = 3\n",
    "for epoch in range(num_epochs):\n",
    "    for x,y in data_iter2:\n",
    "        output = net(x)\n",
    "        l = loss2(output,y.view(-1,1))\n",
    "        optimizer.zero_grad()#清零 net.zero_grad()\n",
    "        l.backward()\n",
    "        optimizer.step()\n",
    "    print(\"epoch %d, loss: %f\"%(epoch+1,l.item()))"
   ]
  },
  {
   "cell_type": "code",
   "execution_count": null,
   "metadata": {},
   "outputs": [],
   "source": []
  }
 ],
 "metadata": {
  "kernelspec": {
   "display_name": "Python 3",
   "language": "python",
   "name": "python3"
  },
  "language_info": {
   "codemirror_mode": {
    "name": "ipython",
    "version": 3
   },
   "file_extension": ".py",
   "mimetype": "text/x-python",
   "name": "python",
   "nbconvert_exporter": "python",
   "pygments_lexer": "ipython3",
   "version": "3.7.3"
  }
 },
 "nbformat": 4,
 "nbformat_minor": 2
}
